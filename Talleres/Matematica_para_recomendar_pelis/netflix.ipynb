{
  "nbformat": 4,
  "nbformat_minor": 0,
  "metadata": {
    "colab": {
      "provenance": []
    },
    "kernelspec": {
      "name": "python3",
      "display_name": "Python 3"
    },
    "language_info": {
      "name": "python"
    }
  },
  "cells": [
    {
      "cell_type": "markdown",
      "source": [
        "# Matemática para recomendar películas\n",
        "\n"
      ],
      "metadata": {
        "id": "mHSZZ9OW83ut"
      }
    },
    {
      "cell_type": "code",
      "execution_count": null,
      "metadata": {
        "id": "Efjdj04z80Lr"
      },
      "outputs": [],
      "source": [
        "import pandas as pd\n",
        "from scipy.linalg import svd\n",
        "import numpy as np\n",
        "import matplotlib.pyplot as plt"
      ]
    },
    {
      "cell_type": "code",
      "source": [
        "#Leemos los datos\n",
        "df = pd.read_excel(\"netflix_ratings.xlsx\",index_col=0)\n",
        "df"
      ],
      "metadata": {
        "id": "S0Swv70V9PYl"
      },
      "execution_count": null,
      "outputs": []
    },
    {
      "cell_type": "code",
      "source": [
        "#Hacemos la descmoposicion SVD\n",
        "U,s,Vt = svd(df,full_matrices=False)\n",
        "s"
      ],
      "metadata": {
        "id": "V7tFQLXgAr4M"
      },
      "execution_count": null,
      "outputs": []
    },
    {
      "cell_type": "code",
      "source": [
        "#cantidad de valores singulares\n",
        "k =3\n",
        "matriz_usuarios = U[:,:k]\n",
        "matriz_elementos = Vt[:k,:]"
      ],
      "metadata": {
        "id": "YykasADgA0Ml"
      },
      "execution_count": null,
      "outputs": []
    },
    {
      "cell_type": "code",
      "source": [
        "matriz_usuarios_df = pd.DataFrame(np.round(matriz_usuarios,2))\n",
        "matriz_usuarios_df"
      ],
      "metadata": {
        "id": "zPbbUCIuDYgh"
      },
      "execution_count": null,
      "outputs": []
    },
    {
      "cell_type": "code",
      "source": [
        "matriz_elementos_df = pd.DataFrame(np.round(matriz_elementos,2))\n",
        "matriz_elementos_df"
      ],
      "metadata": {
        "id": "yhi1Oi-JDyGa"
      },
      "execution_count": null,
      "outputs": []
    },
    {
      "cell_type": "code",
      "source": [
        "#Vemos todos los ratings predichos\n",
        "pred_ratings = np.dot(matriz_usuarios,matriz_elementos)\n",
        "pred_ratings_df = pd.DataFrame(np.round(pred_ratings,2),columns=df.columns,index=df.index)\n",
        "pred_ratings_df"
      ],
      "metadata": {
        "id": "Yx0IdTTFEFFF"
      },
      "execution_count": null,
      "outputs": []
    },
    {
      "cell_type": "code",
      "source": [
        "#Ahora los ratings para un usuario\n",
        "userID = \"Paula\"\n",
        "pred_usuario = pred_ratings_df.loc[userID]\n",
        "pred_usuario"
      ],
      "metadata": {
        "id": "Urb59kdpEoYu"
      },
      "execution_count": null,
      "outputs": []
    },
    {
      "cell_type": "code",
      "source": [
        "ratings_usuario = df.loc[userID]\n",
        "ratings_usuario"
      ],
      "metadata": {
        "id": "7D_YmdjME9rw"
      },
      "execution_count": null,
      "outputs": []
    },
    {
      "cell_type": "code",
      "source": [
        "vistas = list(ratings_usuario[ratings_usuario>0].index)\n",
        "print(\"Peliculas ya vistas:\", vistas)"
      ],
      "metadata": {
        "id": "H1QuX1jjFJUr"
      },
      "execution_count": null,
      "outputs": []
    },
    {
      "cell_type": "code",
      "source": [
        "no_vistas = pred_usuario.drop(vistas)\n",
        "no_vistas"
      ],
      "metadata": {
        "id": "SCjJ086BFc9W"
      },
      "execution_count": null,
      "outputs": []
    },
    {
      "cell_type": "code",
      "source": [
        "#creamos una lista de recomendacion\n",
        "recomendaciones = no_vistas.sort_values(ascending=False)[:3]\n",
        "list(recomendaciones.index)"
      ],
      "metadata": {
        "id": "ol2rFS2wFvrd"
      },
      "execution_count": null,
      "outputs": []
    },
    {
      "cell_type": "markdown",
      "source": [
        "\n",
        "\n",
        "---\n",
        "\n"
      ],
      "metadata": {
        "id": "UVEGchVThtrl"
      }
    },
    {
      "cell_type": "markdown",
      "source": [
        "Ahora todo junto"
      ],
      "metadata": {
        "id": "aaEUeTYDh1YB"
      }
    },
    {
      "cell_type": "code",
      "source": [
        "def recomendacion(df,userID,k=3):\n",
        "  U,s,Vt = svd(df,full_matrices=False)\n",
        "  matriz_usuarios = U[:,:k]\n",
        "  matriz_elementos = Vt[:k,:]\n",
        "  pred_ratings = np.dot(matriz_usuarios,matriz_elementos)\n",
        "  pred_ratings_df = pd.DataFrame(np.round(pred_ratings,2),columns=df.columns)\n",
        "  pred_usuario = pred_ratings_df.loc[userID]\n",
        "  ratings_usuario = df.loc[userID]\n",
        "  vistas = list(ratings_usuario[ratings_usuario>0].index)\n",
        "  no_vistas = pred_usuario.drop(vistas)\n",
        "  recomendaciones = no_vistas.sort_values(ascending=False)[:3]\n",
        "\n",
        "  return print(list(recomendaciones.index))"
      ],
      "metadata": {
        "id": "lY-mZfvSGIhb"
      },
      "execution_count": null,
      "outputs": []
    },
    {
      "cell_type": "code",
      "source": [
        "userID = \"Paula\"\n",
        "recomendacion(df,userID)"
      ],
      "metadata": {
        "id": "2kS3WwRzh3aN"
      },
      "execution_count": null,
      "outputs": []
    },
    {
      "cell_type": "code",
      "source": [
        "def grafico(df,k=3):\n",
        "  U,s,Vt = svd(df,full_matrices=False)\n",
        "  matriz_usuarios = U[:,:k]\n",
        "  matriz_usuarios_df = pd.DataFrame(np.round(matriz_usuarios,2))\n",
        "  matriz_elementos = Vt[:k,:]\n",
        "  matriz_elementos_df = pd.DataFrame(np.round(matriz_elementos,2))\n",
        "  coordenadas = pd.concat([matriz_usuarios_df.iloc[:,1:3],matriz_elementos_df.T.iloc[:,1:3]])\n",
        "  users = df.index\n",
        "  usuarios_str = []\n",
        "  for usuario in df.index:\n",
        "    u_str = str(usuario)\n",
        "    usuarios_str.append(u_str)\n",
        "    nombres = pd.concat([pd.Series(usuarios_str),pd.Series(df.columns)])\n",
        "\n",
        "  fig = plt.figure(figsize = (8,6))\n",
        "  ax = fig.add_subplot(1,1,1)\n",
        "  ax.set_title(\"Similitud entre peliculas y usuarios\",fontsize = 20)\n",
        "  ax.scatter(x=coordenadas.iloc[:,0],y=coordenadas.iloc[:,1])\n",
        "  ax.axhline(y=0,lw=0.5)\n",
        "  ax.axvline(x=0,lw=0.5)\n",
        "  ax.set_xlim(-0.8,0.6)\n",
        "  ax.set_ylim(-0.7,1)\n",
        "\n",
        "  for i,nombre in enumerate(nombres):\n",
        "    ax.annotate(nombre,(coordenadas.iloc[i,0]+0.02,coordenadas.iloc[i,1]),fontsize=8)\n",
        "\n",
        "  plt.show()"
      ],
      "metadata": {
        "id": "nNzbSbu-h4PF"
      },
      "execution_count": null,
      "outputs": []
    },
    {
      "cell_type": "code",
      "source": [
        "grafico(df)"
      ],
      "metadata": {
        "id": "EUyd9nLFjg_N"
      },
      "execution_count": null,
      "outputs": []
    }
  ]
}